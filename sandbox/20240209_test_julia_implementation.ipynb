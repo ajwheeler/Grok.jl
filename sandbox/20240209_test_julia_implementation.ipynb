{
 "cells": [
  {
   "cell_type": "code",
   "execution_count": 1,
   "id": "51fdffaf-63fc-435d-83cd-545f3d26fc47",
   "metadata": {},
   "outputs": [],
   "source": [
    "from astropy.io import fits\n",
    "import os\n",
    "import numpy as np\n",
    "from matplotlib import pyplot as plt\n",
    "from tqdm import tqdm\n",
    "\n",
    "from juliacall import Main as jl\n",
    "# TODO dev it instead\n",
    "jl.include(\"../src/Grok.jl\")\n",
    "Grok = jl.Grok\n",
    "\n",
    "def expand_path(path):\n",
    "    return os.path.abspath(os.path.expanduser(path))\n",
    "\n",
    "def read_apstar(path, inflate_errors=True, use_ferre_mask=True):\n",
    "    with fits.open(expand_path(path)) as image:\n",
    "        flux = image[1].data[0]\n",
    "        e_flux = image[2].data[0]\n",
    "        pixel_flags = image[3].data[0]\n",
    "        \n",
    "    if inflate_errors:\n",
    "        flux, e_flux = inflate_errors_at_bad_pixels(\n",
    "            flux, \n",
    "            e_flux,\n",
    "            pixel_flags,\n",
    "        )\n",
    "    \n",
    "    if use_ferre_mask:\n",
    "        ferre_mask = np.loadtxt(expand_path(\"ferre_mask.dat\"))\n",
    "        use_pixel = (ferre_mask == 1)        \n",
    "        e_flux[~use_pixel] = np.inf\n",
    "\n",
    "    wl = 10**(4.179 + 6e-6 * np.arange(8575))\n",
    "    \n",
    "    return (wl, flux, e_flux, pixel_flags)\n",
    "\n",
    "def inflate_errors_at_bad_pixels(\n",
    "    flux,\n",
    "    e_flux,\n",
    "    bitfield,\n",
    "    skyline_sigma_multiplier=100,\n",
    "    bad_pixel_flux_value=1e-4,\n",
    "    bad_pixel_error_value=1e10,\n",
    "    spike_threshold_to_inflate_uncertainty=3,\n",
    "    min_sigma_value=0.05,\n",
    "):\n",
    "    # Inflate errors around skylines,\n",
    "    skyline_mask = (bitfield & 4096) > 0 # significant skyline\n",
    "    e_flux[skyline_mask] *= skyline_sigma_multiplier\n",
    "\n",
    "    # Sometimes FERRE will run forever.\n",
    "    if spike_threshold_to_inflate_uncertainty > 0:\n",
    "\n",
    "        flux_median = np.nanmedian(flux)\n",
    "        flux_stddev = np.nanstd(flux)\n",
    "        e_flux_median = np.median(e_flux)\n",
    "\n",
    "        delta = (flux - flux_median) / flux_stddev\n",
    "        is_spike = (delta > spike_threshold_to_inflate_uncertainty)\n",
    "        #* (\n",
    "        #    sigma_ < (parameters[\"spike_threshold_to_inflate_uncertainty\"] * e_flux_median)\n",
    "        #)\n",
    "        #if np.any(is_spike):\n",
    "        #    sum_spike = np.sum(is_spike)\n",
    "            #fraction = sum_spike / is_spike.size\n",
    "            #log.warning(\n",
    "            #    f\"Inflating uncertainties for {sum_spike} pixels ({100 * fraction:.2f}%) that were identified as spikes.\"\n",
    "            #)\n",
    "            #for pi in range(is_spike.shape[0]):\n",
    "            #    n = np.sum(is_spike[pi])\n",
    "            #    if n > 0:\n",
    "            #        log.debug(f\"  {n} pixels on spectrum index {pi}\")\n",
    "        e_flux[is_spike] = bad_pixel_error_value\n",
    "\n",
    "    # Set bad pixels to have no useful data.\n",
    "    if bad_pixel_flux_value is not None or bad_pixel_error_value is not None:                            \n",
    "        bad = (\n",
    "            ~np.isfinite(flux)\n",
    "            | ~np.isfinite(e_flux)\n",
    "            | (flux < 0)\n",
    "            | (e_flux < 0)\n",
    "            | ((bitfield & 16639) > 0) # any bad value (level = 1)\n",
    "        )\n",
    "\n",
    "        flux[bad] = bad_pixel_flux_value\n",
    "        e_flux[bad] = bad_pixel_error_value        \n",
    "\n",
    "    if min_sigma_value is not None:\n",
    "        e_flux = np.clip(e_flux, min_sigma_value, np.inf)\n",
    "\n",
    "    return (flux, e_flux)"
   ]
  },
  {
   "cell_type": "code",
   "execution_count": 2,
   "id": "6a87591c-4a42-400b-9281-0ae977b2bdc0",
   "metadata": {},
   "outputs": [
    {
     "name": "stderr",
     "output_type": "stream",
     "text": [
      "WARNING: VerifyWarning: It is strongly recommended that column names contain only upper and lower-case ASCII letters, digits, or underscores for maximum compatibility with other software (got '[Fe/H]'). [astropy.io.fits.column]\n",
      "WARNING: UnitsWarning: '[cm/s2]' did not parse as fits unit: Invalid character at col 0 If this is meant to be a custom unit, define it with 'u.def_unit'. To have it recognized inside a file reader or other code, enable it with 'u.add_enabled_units'. For details, see https://docs.astropy.org/en/latest/units/combining_and_defining.html [astropy.units.core]\n",
      "WARNING: UnitsWarning: '[-]' did not parse as fits unit: Invalid character at col 0 If this is meant to be a custom unit, define it with 'u.def_unit'. To have it recognized inside a file reader or other code, enable it with 'u.add_enabled_units'. For details, see https://docs.astropy.org/en/latest/units/combining_and_defining.html [astropy.units.core]\n",
      "load spectra: 100%|█████████████████████████████████████████████████████████████████████████████████████████| 9/9 [00:00<00:00, 298.82it/s]\n"
     ]
    }
   ],
   "source": [
    "from astropy.table import Table\n",
    "t = Table.read(\"tayar_2015/apj514696t1_mrt_xm_aspcap.fits\")    \n",
    "is_measurement = (t[\"f_vsini\"] != \"<\")\n",
    "paths = []\n",
    "for twomass_id in t[is_measurement][\"2MASS\"]:\n",
    "    apogee_id = twomass_id.lstrip(\"J\")\n",
    "    paths.append(f\"tayar_2015/spectra/apStar-dr17-2M{apogee_id}.fits\")\n",
    "\n",
    "fluxes = []\n",
    "ivars = []\n",
    "for path in tqdm(paths[1:10], \"load spectra\"):\n",
    "    wl, flux, e_flux, pixel_flags = read_apstar(path)\n",
    "    fluxes.append(flux)\n",
    "    ivars.append(e_flux ** (-1/2))"
   ]
  },
  {
   "cell_type": "code",
   "execution_count": 6,
   "id": "29926623-5555-40eb-ae69-37af7e5f4ed5",
   "metadata": {},
   "outputs": [
    {
     "name": "stderr",
     "output_type": "stream",
     "text": [
      "calculating smoothing filter 100%|███████████████████████| Time: 0:00:05\u001b[K\n"
     ]
    }
   ],
   "source": [
    "filter = Grok.calculate_filter()"
   ]
  },
  {
   "cell_type": "code",
   "execution_count": 23,
   "id": "a1367dec-946a-49be-b694-ccbf77e8a1dd",
   "metadata": {},
   "outputs": [],
   "source": [
    "grid_file = \"../../grok_old/korg_grid_old.h5\"\n",
    "grid = Grok.load_grid(grid_file, fix_vmic=1.0, fix_off_by_one=True, v_sinis=np.arange(0, 10, step=1.0))\n",
    ";"
   ]
  },
  {
   "cell_type": "code",
   "execution_count": 27,
   "id": "d859a9c0-df85-4228-ae0b-cc95800d0b00",
   "metadata": {},
   "outputs": [
    {
     "name": "stderr",
     "output_type": "stream",
     "text": [
      "WARNING: replacing module Grok.\n"
     ]
    },
    {
     "ename": "TypeError",
     "evalue": "Julia: MethodError: no method matching get_best_nodes(::PyList{Any}, ::PyList{Any}, ::SparseArrays.SparseMatrixCSC{Float64, Int64}, ::Tuple{Vector{String}, Vector{Vector{Float64}}, Array{Float64, 5}})\n\nClosest candidates are:\n  get_best_nodes(::Any, ::Any, ::Any)\n   @ Main.Grok ~/Dropbox/Grok/src/Grok.jl:136\n",
     "output_type": "error",
     "traceback": [
      "\u001b[0;31m---------------------------------------------------------------------------\u001b[0m",
      "\u001b[0;31mTypeError\u001b[0m                                 Traceback (most recent call last)",
      "Cell \u001b[0;32mIn[27], line 2\u001b[0m\n\u001b[1;32m      1\u001b[0m jl\u001b[38;5;241m.\u001b[39minclude(\u001b[38;5;124m\"\u001b[39m\u001b[38;5;124m../src/Grok.jl\u001b[39m\u001b[38;5;124m\"\u001b[39m)\n\u001b[0;32m----> 2\u001b[0m best_fit_nodes \u001b[38;5;241m=\u001b[39m \u001b[43mGrok\u001b[49m\u001b[38;5;241;43m.\u001b[39;49m\u001b[43mget_best_nodes\u001b[49m\u001b[43m(\u001b[49m\u001b[43mfluxes\u001b[49m\u001b[43m,\u001b[49m\u001b[43m \u001b[49m\u001b[43mivars\u001b[49m\u001b[43m,\u001b[49m\u001b[43m \u001b[49m\u001b[38;5;28;43mfilter\u001b[39;49m\u001b[43m,\u001b[49m\u001b[43m \u001b[49m\u001b[43mgrid\u001b[49m\u001b[43m)\u001b[49m\n\u001b[1;32m      3\u001b[0m \u001b[38;5;28mprint\u001b[39m(best_fit_nodes)\n\u001b[1;32m      5\u001b[0m \u001b[38;5;66;03m#names=(\"apogee_id\", \"grok_teff\", \"grok_logg\", \"grok_m_h\", \"grok_v_micro\", \"grok_v_sini\", \"chi2\")\u001b[39;00m\n\u001b[1;32m      6\u001b[0m \u001b[38;5;66;03m#output_path = \"/Users/andycasey/research/Grok.jl/sandbox/tayar_2015/20240209_grok_results.fits\"\u001b[39;00m\n\u001b[1;32m      7\u001b[0m \u001b[38;5;66;03m#Table(rows=results, names=names).write(output_path, overwrite=True)\u001b[39;00m\n",
      "File \u001b[0;32m~/.julia/packages/PythonCall/wXfah/src/jlwrap/any.jl:208\u001b[0m, in \u001b[0;36m__call__\u001b[0;34m(self, *args, **kwargs)\u001b[0m\n\u001b[1;32m    206\u001b[0m     return ValueBase.__dir__(self) + self._jl_callmethod($(pyjl_methodnum(pyjlany_dir)))\n\u001b[1;32m    207\u001b[0m def __call__(self, *args, **kwargs):\n\u001b[0;32m--> 208\u001b[0m     return self._jl_callmethod($(pyjl_methodnum(pyjlany_call)), args, kwargs)\n\u001b[1;32m    209\u001b[0m def __bool__(self):\n\u001b[1;32m    210\u001b[0m     return True\n",
      "\u001b[0;31mTypeError\u001b[0m: Julia: MethodError: no method matching get_best_nodes(::PyList{Any}, ::PyList{Any}, ::SparseArrays.SparseMatrixCSC{Float64, Int64}, ::Tuple{Vector{String}, Vector{Vector{Float64}}, Array{Float64, 5}})\n\nClosest candidates are:\n  get_best_nodes(::Any, ::Any, ::Any)\n   @ Main.Grok ~/Dropbox/Grok/src/Grok.jl:136\n"
     ]
    }
   ],
   "source": [
    "jl.include(\"../src/Grok.jl\")\n",
    "best_fit_nodes = Grok.get_best_nodes(fluxes, ivars, filter, grid)\n",
    "print(best_fit_nodes)\n",
    "\n",
    "#names=(\"apogee_id\", \"grok_teff\", \"grok_logg\", \"grok_m_h\", \"grok_v_micro\", \"grok_v_sini\", \"chi2\")\n",
    "#output_path = \"/Users/andycasey/research/Grok.jl/sandbox/tayar_2015/20240209_grok_results.fits\"\n",
    "#Table(rows=results, names=names).write(output_path, overwrite=True)"
   ]
  },
  {
   "cell_type": "code",
   "execution_count": null,
   "id": "5fa68ed4-102d-4595-a6f8-9b299d9b4150",
   "metadata": {},
   "outputs": [],
   "source": []
  }
 ],
 "metadata": {
  "kernelspec": {
   "display_name": "Python 3 (ipykernel)",
   "language": "python",
   "name": "python3"
  },
  "language_info": {
   "codemirror_mode": {
    "name": "ipython",
    "version": 3
   },
   "file_extension": ".py",
   "mimetype": "text/x-python",
   "name": "python",
   "nbconvert_exporter": "python",
   "pygments_lexer": "ipython3",
   "version": "3.11.5"
  }
 },
 "nbformat": 4,
 "nbformat_minor": 5
}
